{
 "cells": [
  {
   "cell_type": "markdown",
   "metadata": {},
   "source": [
    "### Deep Convolutional Generative Adversarial Network\n",
    "view https://arxiv.org/abs/1511.06434"
   ]
  },
  {
   "cell_type": "code",
   "execution_count": 179,
   "metadata": {
    "collapsed": true
   },
   "outputs": [],
   "source": [
    "import torch\n",
    "from torch import nn\n",
    "import torchvision.datasets\n",
    "import numpy as np\n",
    "import numpy as np\n",
    "import matplotlib.pyplot as plt"
   ]
  },
  {
   "cell_type": "code",
   "execution_count": 253,
   "metadata": {
    "collapsed": true
   },
   "outputs": [],
   "source": [
    "batch_size = 16\n",
    "%matplotlib inline\n",
    "plt.rcParams['image.cmap'] = 'gray'"
   ]
  },
  {
   "cell_type": "code",
   "execution_count": 181,
   "metadata": {
    "collapsed": true
   },
   "outputs": [],
   "source": [
    "transform = torchvision.transforms.ToTensor()\n",
    "mnist_train = torchvision.datasets.MNIST('./MNIST_data', train=True, download=True, transform=transform)\n",
    "train_loader = torch.utils.data.DataLoader(mnist_train, batch_size=batch_size)\n",
    "mnist_test = torchvision.datasets.MNIST('./MNIST_data', train=False, download=True, transform=transform)\n",
    "test_loader = torch.utils.data.DataLoader(mnist_test, batch_size=batch_size)"
   ]
  },
  {
   "cell_type": "code",
   "execution_count": 198,
   "metadata": {
    "collapsed": true
   },
   "outputs": [],
   "source": [
    "class Flatten(nn.Module):\n",
    "    def forward(self, input):\n",
    "        flattened = input.view(input.shape[0], -1)\n",
    "        return flattened"
   ]
  },
  {
   "cell_type": "code",
   "execution_count": 212,
   "metadata": {
    "collapsed": true
   },
   "outputs": [],
   "source": [
    "class Unflatten(nn.Module):\n",
    "    def __init__(self, C=128, H=7, W=7):\n",
    "        super(Unflatten, self).__init__()\n",
    "        self.C = C\n",
    "        self.H = H\n",
    "        self.W = W\n",
    "        \n",
    "    def forward(self, input):\n",
    "        unflattened = input.view(-1, self.C, self.H, self.W)\n",
    "        return unflattened"
   ]
  },
  {
   "cell_type": "code",
   "execution_count": 213,
   "metadata": {
    "collapsed": true
   },
   "outputs": [],
   "source": [
    "def generate_nosie(batch_size, dim=96):\n",
    "    noise = torch.rand(batch_size, dim) * 2 - 1\n",
    "    return noise"
   ]
  },
  {
   "cell_type": "code",
   "execution_count": 255,
   "metadata": {
    "collapsed": true
   },
   "outputs": [],
   "source": [
    "def CNN():\n",
    "    model = nn.Sequential(\n",
    "        nn.Conv2d(1, 32, [5,5], stride=[1,1]),\n",
    "        nn.LeakyReLU(negative_slope=.01),\n",
    "        nn.MaxPool2d([2,2], stride=[2,2]),\n",
    "        nn.Conv2d(32, 64, [5,5], stride=[1,1]),\n",
    "        nn.LeakyReLU(negative_slope=.01),\n",
    "        nn.MaxPool2d([2,2], stride=[2,2]),\n",
    "        Flatten(),\n",
    "        nn.Linear((4*4*64), (4*4*64)), \n",
    "        nn.LeakyReLU(negative_slope=.01),\n",
    "        nn.Linear((4*4*64), 1)\n",
    "    )\n",
    "    return model"
   ]
  },
  {
   "cell_type": "code",
   "execution_count": 274,
   "metadata": {
    "collapsed": true
   },
   "outputs": [],
   "source": [
    "def generator(noise_dim=96):\n",
    "    model = nn.Sequential(\n",
    "        nn.Linear(noise_dim, 1024),\n",
    "        nn.ReLU(),\n",
    "        nn.BatchNorm1d(1024),\n",
    "        nn.Linear(1024, (7*7*128)),\n",
    "        nn.ReLU(),\n",
    "        nn.BatchNorm1d(7*7*128),\n",
    "        Unflatten(),\n",
    "        nn.ConvTranspose2d(128, 64, [4,4], stride=[2,2], padding=1),\n",
    "        nn.ReLU(),\n",
    "        nn.BatchNorm2d(64),\n",
    "        nn.ConvTranspose2d(64, 1, [4,4], stride=[2,2], padding=1),\n",
    "        nn.Tanh(),\n",
    "        Flatten()\n",
    "    )\n",
    "    return model"
   ]
  },
  {
   "cell_type": "code",
   "execution_count": 275,
   "metadata": {
    "collapsed": true
   },
   "outputs": [],
   "source": [
    "def create_optimizer(model, lr=.01, betas=None):\n",
    "    if betas == None:\n",
    "        optimizer = torch.optim.Adam(model.parameters(), lr=lr)\n",
    "    else:\n",
    "        optimizer = torch.optim.Adam(model.parameters(), lr=lr, betas=betas)\n",
    "    return optimizer"
   ]
  },
  {
   "cell_type": "code",
   "execution_count": 276,
   "metadata": {
    "collapsed": true
   },
   "outputs": [],
   "source": [
    "def discriminator_loss(scores_real, scores_fake):\n",
    "    true_labels = torch.ones_like(scores_real)\n",
    "    valid_loss = torch.mean((scores_real - true_labels) ** 2) * .5\n",
    "    invalid_loss = torch.mean(scores_fake ** 2) * .5\n",
    "    loss = valid_loss + invalid_loss\n",
    "    return loss"
   ]
  },
  {
   "cell_type": "code",
   "execution_count": 277,
   "metadata": {
    "collapsed": true
   },
   "outputs": [],
   "source": [
    "def generator_loss(scores_fake):\n",
    "    true_labels = torch.ones_like(scores_fake)\n",
    "    loss = torch.mean((scores_fake - true_labels) ** 2) * .5\n",
    "    return loss"
   ]
  },
  {
   "cell_type": "code",
   "execution_count": 278,
   "metadata": {
    "collapsed": true
   },
   "outputs": [],
   "source": [
    "def show_image(images):\n",
    "#     for image in images:\n",
    "    images_np = images.detach().numpy().squeeze()\n",
    "#     side_length = np.sqrt(images.shape[1])\n",
    "#     print(\"side length\", side_length, images.shape)\n",
    "#     assert(side_length % 1 == 0), \"images not square shape\"\n",
    "#     image_show = images[0]\n",
    "#     image_unflattened = np.reshape(image_show, (int(side_length), int(side_length)))\n",
    "#     plt.imshow(image_unflattened)\n",
    "    plt.imshow(images_np[0])\n",
    "    plt.show()"
   ]
  },
  {
   "cell_type": "code",
   "execution_count": 279,
   "metadata": {
    "collapsed": true
   },
   "outputs": [],
   "source": [
    "def train_gan(generator, discriminator, image_loader, epochs, num_train_batches=-1):\n",
    "    generator_optimizer = create_optimizer(generator, lr=1e-3, betas=(.5, .999))\n",
    "    discriminator_optimizer = create_optimizer(discriminator, lr=1e-3, betas=(.5, .999))\n",
    "    iters = 0\n",
    "    for epoch in range(epochs):\n",
    "        for i, (examples, labels) in enumerate(image_loader):\n",
    "            generator_optimizer.zero_grad()\n",
    "            discriminator_optimizer.zero_grad()\n",
    "            z = generate_nosie(batch_size)\n",
    "            images_fake = generator(z)\n",
    "            images_fake_unflattened = images_fake.view(images_fake.shape[0], 1, 28, 28)\n",
    "            scores_fake = discriminator(images_fake_unflattened)\n",
    "            \n",
    "            ##TODO, fix scores_fake 10 class problem\n",
    "            \n",
    "            g_cost = generator_loss(scores_fake)\n",
    "            g_cost.backward(retain_graph=True)\n",
    "            generator_optimizer.step()\n",
    "\n",
    "            scores_real = discriminator(examples)\n",
    "            d_cost = discriminator_loss(scores_real, scores_fake)\n",
    "            d_cost.backward()\n",
    "            discriminator_optimizer.step()\n",
    "            iters += 1\n",
    "            if iters % 250  == 0:\n",
    "                print(\"Iteration:\", iters)\n",
    "                print(\"Discriminator Cost\", d_cost)\n",
    "                print(\"Generator Cost\", g_cost)\n",
    "                show_image(images_fake_unflattened)\n",
    "                \n",
    "\n",
    "    return generator, discriminator"
   ]
  },
  {
   "cell_type": "code",
   "execution_count": 280,
   "metadata": {},
   "outputs": [],
   "source": [
    "generator = generator()\n",
    "discriminator = CNN()\n",
    "image_loader = train_loader\n",
    "epochs = 10\n",
    "num_train_batches = 1000"
   ]
  },
  {
   "cell_type": "code",
   "execution_count": null,
   "metadata": {},
   "outputs": [
    {
     "name": "stdout",
     "output_type": "stream",
     "text": [
      "Iteration: 250\n",
      "Discriminator Cost tensor(0.1620)\n",
      "Generator Cost tensor(0.1715)\n"
     ]
    },
    {
     "data": {
      "image/png": "[encoded data removed]",
      "text/plain": [
       "<matplotlib.figure.Figure at 0x1110ebc18>"
      ]
     },
     "metadata": {},
     "output_type": "display_data"
    },
    {
     "name": "stdout",
     "output_type": "stream",
     "text": [
      "Iteration: 500\n",
      "Discriminator Cost tensor(0.2119)\n",
      "Generator Cost tensor(1.00000e-02 *\n",
      "       6.9589)\n"
     ]
    },
    {
     "data": {
      "image/png": "[encoded data removed]",
      "text/plain": [
       "<matplotlib.figure.Figure at 0x11863d630>"
      ]
     },
     "metadata": {},
     "output_type": "display_data"
    },
    {
     "name": "stdout",
     "output_type": "stream",
     "text": [
      "Iteration: 750\n",
      "Discriminator Cost tensor(0.1900)\n",
      "Generator Cost tensor(1.00000e-02 *\n",
      "       8.4928)\n"
     ]
    },
    {
     "data": {
      "image/png": "[encoded data removed]",
      "text/plain": [
       "<matplotlib.figure.Figure at 0x111117a20>"
      ]
     },
     "metadata": {},
     "output_type": "display_data"
    },
    {
     "name": "stdout",
     "output_type": "stream",
     "text": [
      "Iteration: 1000\n",
      "Discriminator Cost tensor(0.1695)\n",
      "Generator Cost tensor(1.00000e-02 *\n",
      "       9.6663)\n"
     ]
    },
    {
     "data": {
      "image/png": "[encoded data removed]",
      "text/plain": [
       "<matplotlib.figure.Figure at 0x10c397fd0>"
      ]
     },
     "metadata": {},
     "output_type": "display_data"
    },
    {
     "name": "stdout",
     "output_type": "stream",
     "text": [
      "Iteration: 1250\n",
      "Discriminator Cost tensor(0.1540)\n",
      "Generator Cost tensor(0.1051)\n"
     ]
    },
    {
     "data": {
      "image/png": "[encoded data removed]",
      "text/plain": [
       "<matplotlib.figure.Figure at 0x10edd1400>"
      ]
     },
     "metadata": {},
     "output_type": "display_data"
    },
    {
     "name": "stdout",
     "output_type": "stream",
     "text": [
      "Iteration: 1500\n",
      "Discriminator Cost tensor(0.1369)\n",
      "Generator Cost tensor(0.1149)\n"
     ]
    },
    {
     "data": {
      "image/png": "[encoded data removed]",
      "text/plain": [
       "<matplotlib.figure.Figure at 0x10bc4acf8>"
      ]
     },
     "metadata": {},
     "output_type": "display_data"
    }
   ],
   "source": [
    "train_gan(generator, discriminator, image_loader, epochs, num_train_batches=num_train_batches)"
   ]
  },
  {
   "cell_type": "code",
   "execution_count": null,
   "metadata": {
    "collapsed": true
   },
   "outputs": [],
   "source": []
  }
 ],
 "metadata": {
  "kernelspec": {
   "display_name": "Python 3",
   "language": "python",
   "name": "python3"
  },
  "language_info": {
   "codemirror_mode": {
    "name": "ipython",
    "version": 3
   },
   "file_extension": ".py",
   "mimetype": "text/x-python",
   "name": "python",
   "nbconvert_exporter": "python",
   "pygments_lexer": "ipython3",
   "version": "3.6.3"
  }
 },
 "nbformat": 4,
 "nbformat_minor": 2
}
