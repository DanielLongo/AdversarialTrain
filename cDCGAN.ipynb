{
 "cells": [
  {
   "cell_type": "markdown",
   "metadata": {},
   "source": [
    "### Conditional Deep Convolutional Generative Adversarial Network\n",
    "view https://arxiv.org/pdf/1605.05396.pdf"
   ]
  },
  {
   "cell_type": "code",
<<<<<<< HEAD
   "execution_count": 24,
   "metadata": {
    "collapsed": true
   },
=======
   "execution_count": 106,
   "metadata": {},
>>>>>>> 419006f6c79281cb42d49b75390edb0743f5090d
   "outputs": [],
   "source": [
    "import torch\n",
    "from torch import nn\n",
    "import torchvision.datasets\n",
    "import numpy as np\n",
    "import matplotlib.pyplot as plt"
   ]
  },
  {
   "cell_type": "code",
<<<<<<< HEAD
   "execution_count": 25,
   "metadata": {
    "collapsed": true
   },
=======
   "execution_count": 107,
   "metadata": {},
   "outputs": [],
   "source": [
    "#dtype = torch.FloatTensor\n",
    "dtype = torch.cuda.FloatTensor #uncomment if using gpu\n",
    "torch.set_default_tensor_type('torch.cuda.FloatTensor')\n",
    "torch.backends.cudnn.benchmark = True"
   ]
  },
  {
   "cell_type": "code",
   "execution_count": 108,
   "metadata": {},
>>>>>>> 419006f6c79281cb42d49b75390edb0743f5090d
   "outputs": [],
   "source": [
    "batch_size = 128\n",
    "%matplotlib inline\n",
    "plt.rcParams['image.cmap'] = 'gray'"
   ]
  },
  {
   "cell_type": "code",
<<<<<<< HEAD
   "execution_count": 3,
   "metadata": {
    "collapsed": true
   },
=======
   "execution_count": 109,
   "metadata": {},
>>>>>>> 419006f6c79281cb42d49b75390edb0743f5090d
   "outputs": [],
   "source": [
    "transform = torchvision.transforms.ToTensor()\n",
    "mnist_train = torchvision.datasets.MNIST('./MNIST_data', train=True, download=True, transform=transform)\n",
    "train_loader = torch.utils.data.DataLoader(mnist_train, batch_size=batch_size)\n",
    "mnist_test = torchvision.datasets.MNIST('./MNIST_data', train=False, download=True, transform=transform)\n",
    "test_loader = torch.utils.data.DataLoader(mnist_test, batch_size=batch_size)"
   ]
  },
  {
   "cell_type": "code",
<<<<<<< HEAD
   "execution_count": 4,
   "metadata": {
    "collapsed": true
   },
=======
   "execution_count": 110,
   "metadata": {},
>>>>>>> 419006f6c79281cb42d49b75390edb0743f5090d
   "outputs": [],
   "source": [
    "class Flatten(nn.Module):\n",
    "    def forward(self, input):\n",
    "        flattened = input.view(input.shape[0], -1)\n",
    "        return flattened"
   ]
  },
  {
   "cell_type": "code",
<<<<<<< HEAD
   "execution_count": 5,
   "metadata": {
    "collapsed": true
   },
=======
   "execution_count": 111,
   "metadata": {},
>>>>>>> 419006f6c79281cb42d49b75390edb0743f5090d
   "outputs": [],
   "source": [
    "class Unflatten(nn.Module):\n",
    "    def __init__(self, C=128, H=7, W=7):\n",
    "        super(Unflatten, self).__init__()\n",
    "        self.C = C\n",
    "        self.H = H\n",
    "        self.W = W\n",
    "        \n",
    "    def forward(self, input):\n",
    "        unflattened = input.view(-1, self.C, self.H, self.W)\n",
    "        return unflattened"
   ]
  },
  {
   "cell_type": "code",
<<<<<<< HEAD
   "execution_count": 6,
   "metadata": {
    "collapsed": true
   },
=======
   "execution_count": 112,
   "metadata": {},
>>>>>>> 419006f6c79281cb42d49b75390edb0743f5090d
   "outputs": [],
   "source": [
    "class Add_Conditional(nn.Module):\n",
    "#     def __init__(self):\n",
    "#         super(Add_Conditional, self).__init__()\n",
    "        \n",
    "    def forward(self, input, conditional=None):\n",
    "        conditional_array = np.expand_dims(np.array(conditional), axis=1)\n",
    "#         conditional_tensor = torch.FloatTensor(conditional_array)\n",
    "        conditional_tensor = torch.cuda.FloatTensor(conditional_array)\n",
    "        concatenated = torch.cat((conditional_tensor, input), dim=1)\n",
    "        return concatenated"
   ]
  },
  {
   "cell_type": "code",
<<<<<<< HEAD
   "execution_count": 7,
   "metadata": {
    "collapsed": true
   },
=======
   "execution_count": 113,
   "metadata": {},
>>>>>>> 419006f6c79281cb42d49b75390edb0743f5090d
   "outputs": [],
   "source": [
    "def generate_noise(batch_size, dim=96):\n",
    "    noise = torch.rand(batch_size, dim) * 2 - 1\n",
    "    return noise"
   ]
  },
  {
   "cell_type": "markdown",
   "metadata": {},
   "source": [
    "    nn.Conv2d(1, 32, [5,5], stride=[1,1]),\n",
    "    nn.LeakyReLU(negative_slope=.01),\n",
    "    nn.MaxPool2d([2,2], stride=[2,2]),\n",
    "    nn.Conv2d(32, 64, [5,5], stride=[1,1]),\n",
    "    nn.LeakyReLU(negative_slope=.01),\n",
    "    nn.MaxPool2d([2,2], stride=[2,2]),\n",
    "    Flatten(),\n",
    "    Add_Conditional(conditional=conditional),\n",
    "    nn.Linear((4*4*64 + 1), (4*4*64)), \n",
    "    nn.LeakyReLU(negative_slope=.01),\n",
    "    nn.Linear((4*4*64), 1)"
   ]
  },
  {
   "cell_type": "code",
<<<<<<< HEAD
   "execution_count": 8,
   "metadata": {
    "collapsed": true
   },
=======
   "execution_count": 114,
   "metadata": {},
>>>>>>> 419006f6c79281cb42d49b75390edb0743f5090d
   "outputs": [],
   "source": [
    "class CNN(nn.Module):\n",
    "    def __init__(self, conditional):\n",
    "        super(CNN, self).__init__()\n",
    "        self.layer1 = nn.Sequential(\n",
    "            nn.Conv2d(1, 32, [5,5], stride=[1,1]),\n",
    "            nn.LeakyReLU(negative_slope=.01),\n",
    "            nn.MaxPool2d([2,2], stride=[2,2])\n",
    "        )\n",
    "\n",
    "        self.layer2 = nn.Sequential(\n",
    "            nn.Conv2d(32, 64, [5,5], stride=[1,1]),\n",
    "            nn.LeakyReLU(negative_slope=.01),\n",
    "            nn.MaxPool2d([2,2], stride=[2,2])\n",
    "        )\n",
    "        self.flatten = Flatten()\n",
    "        self.condition_concat = Add_Conditional()\n",
    "        self.linear_layers = nn.Sequential(\n",
    "            nn.Linear((4*4*64), (4*4*64)), \n",
    "            nn.LeakyReLU(negative_slope=.01),\n",
    "            nn.Linear((4*4*64), 1)\n",
    "        )\n",
    "    \n",
    "    def forward(self, x, conditional):\n",
    "#         out = self.condition_concat(x, conditional=conditional)\n",
    "        out = self.layer1(x)\n",
    "        out = self.layer2(out)\n",
    "        out = self.flatten(out)\n",
    "        out = self.linear_layers(out)\n",
    "#         print(\"Conditional CNN\", conditional.shape) \n",
    "        return out"
   ]
  },
  {
   "cell_type": "markdown",
   "metadata": {},
   "source": [
    "    nn.Linear(noise_dim, 1024),\n",
    "    nn.ReLU(),\n",
    "    nn.BatchNorm1d(1024),\n",
    "    Add_Conditional(conditional=conditional),\n",
    "    nn.Linear(1025, (7*7*128)),\n",
    "    nn.ReLU(),\n",
    "    nn.BatchNorm1d(7*7*128),\n",
    "    Unflatten(C=128, H=7, W=7),\n",
    "    nn.ConvTranspose2d(128, 64, [4,4], stride=[2,2], padding=1),\n",
    "    nn.ReLU(),\n",
    "    nn.BatchNorm2d(64),\n",
    "    nn.ConvTranspose2d(64, 1, [4,4], stride=[2,2], padding=1),\n",
    "    nn.Tanh(),\n",
    "    Flatten()"
   ]
  },
  {
   "cell_type": "code",
<<<<<<< HEAD
   "execution_count": 9,
   "metadata": {
    "collapsed": true
   },
=======
   "execution_count": 115,
   "metadata": {},
>>>>>>> 419006f6c79281cb42d49b75390edb0743f5090d
   "outputs": [],
   "source": [
    "class Generator(nn.Module):\n",
    "    def __init__(self, conditional, noise_dim=96):\n",
    "        super(Generator, self).__init__()\n",
    "        self.conditional_concat = Add_Conditional()\n",
    "        self.layer1 = nn.Sequential(\n",
    "            nn.Linear(noise_dim + 1, 1024),\n",
    "            nn.ReLU(),\n",
    "            nn.BatchNorm1d(1024)\n",
    "        )\n",
    "        self.layer2 = nn.Sequential(\n",
    "            nn.Linear(1024, (7*7*128)),\n",
    "            nn.ReLU(),\n",
    "            nn.BatchNorm1d(7*7*128)\n",
    "        )\n",
    "        self.unflatten = Unflatten(C=128, H=7, W=7)\n",
    "        self.layer3 = nn.Sequential(\n",
    "            nn.ConvTranspose2d(128, 64, [4,4], stride=[2,2], padding=1),\n",
    "            nn.ReLU(),\n",
    "            nn.BatchNorm2d(64)\n",
    "        )\n",
    "        self.layer4 = nn.Sequential(\n",
    "            nn.BatchNorm2d(64),\n",
    "            nn.ConvTranspose2d(64, 1, [4,4], stride=[2,2], padding=1),\n",
    "            nn.Tanh(),\n",
    "        )\n",
    "        self.flatten = Flatten()\n",
    "        \n",
    "    def forward(self, x, conditional, noise_dim=96):\n",
    "        out = self.conditional_concat(x, conditional=conditional)\n",
    "        out = self.layer1(out)\n",
    "        out = self.layer2(out)\n",
    "        out = self.unflatten(out)\n",
    "        out = self.layer3(out)\n",
    "        out = self.layer4(out)\n",
    "        out = self.flatten(out)\n",
    "        return out"
   ]
  },
  {
   "cell_type": "code",
<<<<<<< HEAD
   "execution_count": 10,
   "metadata": {
    "collapsed": true
   },
=======
   "execution_count": 116,
   "metadata": {},
>>>>>>> 419006f6c79281cb42d49b75390edb0743f5090d
   "outputs": [],
   "source": [
    "def create_optimizer(model, lr=.01, betas=None):\n",
    "    if betas == None:\n",
    "        optimizer = torch.optim.Adam(model, lr=lr)\n",
    "    else:\n",
    "        optimizer = torch.optim.Adam(model, lr=lr, betas=betas)\n",
    "    return optimizer"
   ]
  },
  {
   "cell_type": "code",
<<<<<<< HEAD
   "execution_count": 11,
   "metadata": {
    "collapsed": true
   },
=======
   "execution_count": 117,
   "metadata": {},
>>>>>>> 419006f6c79281cb42d49b75390edb0743f5090d
   "outputs": [],
   "source": [
    "def discriminator_loss(scores_real, scores_fake):\n",
    "    true_labels = torch.ones_like(scores_real)\n",
    "    valid_loss = torch.mean((scores_real - true_labels) ** 2) * .5\n",
    "#     valid_loss = torch.nn.BCELoss(scores_real, torch.ones_like(scores_real))\n",
    "    invalid_loss = torch.mean(scores_fake ** 2) * .5\n",
    "#     invalid_loss = torch.nn.BCELoss(scores_fake, torch.zeros_like(scores_fake))\n",
    "    loss = valid_loss + invalid_loss\n",
    "    return loss"
   ]
  },
  {
   "cell_type": "code",
<<<<<<< HEAD
   "execution_count": 12,
   "metadata": {
    "collapsed": true
   },
=======
   "execution_count": 118,
   "metadata": {},
>>>>>>> 419006f6c79281cb42d49b75390edb0743f5090d
   "outputs": [],
   "source": [
    "def generator_loss(scores_fake):\n",
    "    loss = torch.mean((scores_fake - torch.ones_like(scores_fake)) ** 2) #* .5\n",
    "#     loss = torch.nn.BCELoss(scores_fake, torch.ones_like(scores_fake))\n",
    "    return loss"
   ]
  },
  {
   "cell_type": "code",
<<<<<<< HEAD
   "execution_count": 13,
   "metadata": {
    "collapsed": true
   },
=======
   "execution_count": 119,
   "metadata": {},
>>>>>>> 419006f6c79281cb42d49b75390edb0743f5090d
   "outputs": [],
   "source": [
    "def show_image(images):\n",
    "#     for image in images:\n",
    "    images_np = images.cpu().detach().numpy().squeeze()\n",
    "#     side_length = np.sqrt(images.shape[1])\n",
    "#     print(\"side length\", side_length, images.shape)\n",
    "#     assert(side_length % 1 == 0), \"images not square shape\"\n",
    "#     image_show = images[0]\n",
    "#     image_unflattened = np.reshape(image_show, (int(side_length), int(side_length)))\n",
    "#     plt.imshow(image_unflattened)\n",
    "    plt.imshow(images_np[13])\n",
    "    plt.show()"
   ]
  },
  {
   "cell_type": "code",
<<<<<<< HEAD
   "execution_count": 14,
   "metadata": {
    "collapsed": true
   },
=======
   "execution_count": 120,
   "metadata": {},
>>>>>>> 419006f6c79281cb42d49b75390edb0743f5090d
   "outputs": [],
   "source": [
    "def get_probability(logits, labels):\n",
    "#     print(\"type of logits\", logits.dtype)\n",
    "#     print(\"type of labels\", labels.dtype)\n",
    "    logits_sum = torch.sum(logits, dim=1) \n",
    "#     print(\"type of logits sum\", logits_sum.dtype)\n",
    "    logits_sum = logits_sum.view(logits_sum.shape[0], 1)\n",
    "    logits_normalized = logits / logits_sum\n",
    "    logits = logits[torch.arange(logits.shape[0]), labels]\n",
    "#     print(\"logits shape\", logits.shape)\n",
    "#     print(\"logits sample\", logits[0:3])\n",
    "    return logits"
   ]
  },
  {
   "cell_type": "code",
<<<<<<< HEAD
   "execution_count": 15,
   "metadata": {
    "collapsed": true
   },
=======
   "execution_count": 124,
   "metadata": {},
>>>>>>> 419006f6c79281cb42d49b75390edb0743f5090d
   "outputs": [],
   "source": [
    "def train_gan(generator, discriminator, image_loader, epochs, num_train_batches=-1):\n",
    "    generator_optimizer = create_optimizer(generator.parameters(), lr=1e-3, betas=(.5, .999))\n",
    "    discriminator_optimizer = create_optimizer(discriminator.parameters(), lr=1e-3, betas=(.5, .999))\n",
    "    iters = 0\n",
    "    for epoch in range(epochs):\n",
    "        #learning rate decay\n",
    "        if (epoch == 10) or (epoch == 15):\n",
    "            generator_optimizer.param_groups[0][\"lr\"] /= 10\n",
    "            discriminator_optimizer.param_groups[0][\"lr\"] /= 10\n",
    "            \n",
    "        for i, (examples, labels) in enumerate(image_loader):\n",
    "            if i == num_train_batches:\n",
    "                break\n",
    "            if labels.shape[0] != batch_size:\n",
    "#                 print(\"invalid labels shape\", labels.shape)\n",
    "                continue\n",
    "            examples = examples.cuda()\n",
    "            labels = labels.cuda()\n",
    "            generator_optimizer.zero_grad()\n",
    "            discriminator_optimizer.zero_grad()\n",
    "            z = generate_noise(batch_size).cuda()\n",
    "            images_fake = generator(z, labels)\n",
    "            images_fake_unflattened = images_fake.view(images_fake.shape[0], 1, 28, 28)\n",
    "            scores_fake = discriminator(images_fake_unflattened, labels)\n",
    "#             scores_fake = get_probability(scores_fake, labels)\n",
    "            \n",
    "            \n",
    "            g_cost = generator_loss(scores_fake)\n",
    "            g_cost.backward(retain_graph=True)\n",
    "            generator_optimizer.step()\n",
    "            \n",
    "            scores_real = discriminator(examples, labels)\n",
    "#             scores_real = get_probability(scores_real, labels)\n",
    "            d_cost = discriminator_loss(scores_real, scores_fake)\n",
    "            d_cost.backward()\n",
    "            discriminator_optimizer.step()\n",
    "            iters += 1\n",
    "            if iters % 1000  == 0:\n",
    "                print(\"label\", labels[13])\n",
    "                print(\"Iteration:\", iters, \"Epoch \", epoch)\n",
    "                print(\"Discriminator Cost\", d_cost)\n",
    "                print(\"Generator Cost\", g_cost)\n",
    "                show_image(images_fake_unflattened)\n",
    "                \n",
    "\n",
    "    return generator, discriminator"
   ]
  },
  {
   "cell_type": "code",
<<<<<<< HEAD
   "execution_count": 16,
   "metadata": {
    "collapsed": true
   },
=======
   "execution_count": 125,
   "metadata": {},
>>>>>>> 419006f6c79281cb42d49b75390edb0743f5090d
   "outputs": [],
   "source": [
    "filler_conditonal = torch.zeros(batch_size)\n",
    "generator = Generator(filler_conditonal)\n",
    "discriminator = CNN(filler_conditonal)\n",
    "# generator = generator.cuda()\n",
    "# discriminator = discriminator.cuda()\n",
    "image_loader = train_loader\n",
    "epochs = 50\n",
    "num_train_batches = -1"
   ]
  },
  {
   "cell_type": "code",
<<<<<<< HEAD
   "execution_count": 17,
=======
   "execution_count": null,
>>>>>>> 419006f6c79281cb42d49b75390edb0743f5090d
   "metadata": {
    "scrolled": true
   },
   "outputs": [
    {
     "name": "stdout",
     "output_type": "stream",
     "text": [
<<<<<<< HEAD
      "label tensor(1)\n",
      "Iteration: 100\n",
      "Discriminator Cost tensor(0.1645)\n",
      "Generator Cost tensor(0.1047)\n"
=======
      "label tensor(3)\n",
      "Iteration: 1000 Epoch  2\n",
      "Discriminator Cost tensor(0.2044, grad_fn=<ThAddBackward>)\n",
      "Generator Cost tensor(0.1458, grad_fn=<MeanBackward1>)\n"
     ]
    },
    {
     "data": {
      "image/png": "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\n",
      "text/plain": [
       "<Figure size 432x288 with 1 Axes>"
      ]
     },
     "metadata": {},
     "output_type": "display_data"
    },
    {
     "name": "stdout",
     "output_type": "stream",
     "text": [
      "label tensor(2)\n",
      "Iteration: 2000 Epoch  4\n",
      "Discriminator Cost tensor(0.2135, grad_fn=<ThAddBackward>)\n",
      "Generator Cost tensor(0.1219, grad_fn=<MeanBackward1>)\n"
     ]
    },
    {
     "data": {
      "image/png": "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\n",
      "text/plain": [
       "<Figure size 432x288 with 1 Axes>"
      ]
     },
     "metadata": {},
     "output_type": "display_data"
    },
    {
     "name": "stdout",
     "output_type": "stream",
     "text": [
      "label tensor(1)\n",
      "Iteration: 3000 Epoch  6\n",
      "Discriminator Cost tensor(0.2256, grad_fn=<ThAddBackward>)\n",
      "Generator Cost tensor(0.1104, grad_fn=<MeanBackward1>)\n"
     ]
    },
    {
     "data": {
      "image/png": "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\n",
      "text/plain": [
       "<Figure size 432x288 with 1 Axes>"
      ]
     },
     "metadata": {},
     "output_type": "display_data"
    },
    {
     "name": "stdout",
     "output_type": "stream",
     "text": [
      "label tensor(3)\n",
      "Iteration: 4000 Epoch  8\n",
      "Discriminator Cost tensor(0.2242, grad_fn=<ThAddBackward>)\n",
      "Generator Cost tensor(0.1110, grad_fn=<MeanBackward1>)\n"
>>>>>>> 419006f6c79281cb42d49b75390edb0743f5090d
     ]
    },
    {
     "data": {
<<<<<<< HEAD
      "image/png": "iVBORw0KGgoAAAANSUhEUgAAAP8AAAD8CAYAAAC4nHJkAAAABHNCSVQICAgIfAhkiAAAAAlwSFlz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\nL5IoJb9IopT8IolS8osk6v8A4nCoZ15+tP4AAAAASUVORK5CYII=\n",
      "text/plain": [
       "<matplotlib.figure.Figure at 0x10e819128>"
=======
      "image/png": "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\n",
      "text/plain": [
       "<Figure size 432x288 with 1 Axes>"
      ]
     },
     "metadata": {},
     "output_type": "display_data"
    },
    {
     "name": "stdout",
     "output_type": "stream",
     "text": [
      "label tensor(6)\n",
      "Iteration: 5000 Epoch  10\n",
      "Discriminator Cost tensor(0.2364, grad_fn=<ThAddBackward>)\n",
      "Generator Cost tensor(0.1020, grad_fn=<MeanBackward1>)\n"
     ]
    },
    {
     "data": {
      "image/png": "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\n",
      "text/plain": [
       "<Figure size 432x288 with 1 Axes>"
>>>>>>> 419006f6c79281cb42d49b75390edb0743f5090d
      ]
     },
     "metadata": {},
     "output_type": "display_data"
    },
    {
     "name": "stdout",
     "output_type": "stream",
     "text": [
      "label tensor(1)\n",
<<<<<<< HEAD
      "Iteration: 200\n",
      "Discriminator Cost tensor(0.1400)\n",
      "Generator Cost tensor(0.1255)\n"
=======
      "Iteration: 6000 Epoch  12\n",
      "Discriminator Cost tensor(0.2440, grad_fn=<ThAddBackward>)\n",
      "Generator Cost tensor(0.0963, grad_fn=<MeanBackward1>)\n"
     ]
    },
    {
     "data": {
      "image/png": "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\n",
      "text/plain": [
       "<Figure size 432x288 with 1 Axes>"
      ]
     },
     "metadata": {},
     "output_type": "display_data"
    },
    {
     "name": "stdout",
     "output_type": "stream",
     "text": [
      "label tensor(4)\n",
      "Iteration: 7000 Epoch  14\n",
      "Discriminator Cost tensor(0.2395, grad_fn=<ThAddBackward>)\n",
      "Generator Cost tensor(0.0987, grad_fn=<MeanBackward1>)\n"
     ]
    },
    {
     "data": {
      "image/png": "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\n",
      "text/plain": [
       "<Figure size 432x288 with 1 Axes>"
      ]
     },
     "metadata": {},
     "output_type": "display_data"
    },
    {
     "name": "stdout",
     "output_type": "stream",
     "text": [
      "label tensor(6)\n",
      "Iteration: 8000 Epoch  17\n",
      "Discriminator Cost tensor(0.2389, grad_fn=<ThAddBackward>)\n",
      "Generator Cost tensor(0.1005, grad_fn=<MeanBackward1>)\n"
     ]
    },
    {
     "data": {
      "image/png": "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\n",
      "text/plain": [
       "<Figure size 432x288 with 1 Axes>"
      ]
     },
     "metadata": {},
     "output_type": "display_data"
    },
    {
     "name": "stdout",
     "output_type": "stream",
     "text": [
      "label tensor(6)\n",
      "Iteration: 9000 Epoch  19\n",
      "Discriminator Cost tensor(0.2348, grad_fn=<ThAddBackward>)\n",
      "Generator Cost tensor(0.1028, grad_fn=<MeanBackward1>)\n"
     ]
    },
    {
     "data": {
      "image/png": "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\n",
      "text/plain": [
       "<Figure size 432x288 with 1 Axes>"
      ]
     },
     "metadata": {},
     "output_type": "display_data"
    },
    {
     "name": "stdout",
     "output_type": "stream",
     "text": [
      "label tensor(6)\n",
      "Iteration: 10000 Epoch  21\n",
      "Discriminator Cost tensor(0.2335, grad_fn=<ThAddBackward>)\n",
      "Generator Cost tensor(0.1048, grad_fn=<MeanBackward1>)\n"
     ]
    },
    {
     "data": {
      "image/png": "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\n",
      "text/plain": [
       "<Figure size 432x288 with 1 Axes>"
      ]
     },
     "metadata": {},
     "output_type": "display_data"
    },
    {
     "name": "stdout",
     "output_type": "stream",
     "text": [
      "label tensor(3)\n",
      "Iteration: 11000 Epoch  23\n",
      "Discriminator Cost tensor(0.2238, grad_fn=<ThAddBackward>)\n",
      "Generator Cost tensor(0.1127, grad_fn=<MeanBackward1>)\n"
     ]
    },
    {
     "data": {
      "image/png": "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\n",
      "text/plain": [
       "<Figure size 432x288 with 1 Axes>"
      ]
     },
     "metadata": {},
     "output_type": "display_data"
    },
    {
     "name": "stdout",
     "output_type": "stream",
     "text": [
      "label tensor(5)\n",
      "Iteration: 12000 Epoch  25\n",
      "Discriminator Cost tensor(0.2045, grad_fn=<ThAddBackward>)\n",
      "Generator Cost tensor(0.1341, grad_fn=<MeanBackward1>)\n"
>>>>>>> 419006f6c79281cb42d49b75390edb0743f5090d
     ]
    },
    {
     "data": {
<<<<<<< HEAD
      "image/png": "iVBORw0KGgoAAAANSUhEUgAAAP8AAAD8CAYAAAC4nHJkAAAABHNCSVQICAgIfAhkiAAAAAlwSFlz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\nKflFEvX/AGvSTLXKJnYAAAAASUVORK5CYII=\n",
      "text/plain": [
       "<matplotlib.figure.Figure at 0x10e811e10>"
=======
      "image/png": "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\n",
      "text/plain": [
       "<Figure size 432x288 with 1 Axes>"
>>>>>>> 419006f6c79281cb42d49b75390edb0743f5090d
      ]
     },
     "metadata": {},
     "output_type": "display_data"
    },
    {
     "name": "stdout",
     "output_type": "stream",
     "text": [
<<<<<<< HEAD
      "label tensor(8)\n",
      "Iteration: 300\n",
      "Discriminator Cost tensor(0.1137)\n",
      "Generator Cost tensor(0.1607)\n"
=======
      "label tensor(9)\n",
      "Iteration: 13000 Epoch  27\n",
      "Discriminator Cost tensor(0.2354, grad_fn=<ThAddBackward>)\n",
      "Generator Cost tensor(0.1021, grad_fn=<MeanBackward1>)\n"
>>>>>>> 419006f6c79281cb42d49b75390edb0743f5090d
     ]
    },
    {
     "data": {
<<<<<<< HEAD
      "image/png": "iVBORw0KGgoAAAANSUhEUgAAAP8AAAD8CAYAAAC4nHJkAAAABHNCSVQICAgIfAhkiAAAAAlwSFlz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\ngg==\n",
      "text/plain": [
       "<matplotlib.figure.Figure at 0x106e70a58>"
=======
      "image/png": "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\n",
      "text/plain": [
       "<Figure size 432x288 with 1 Axes>"
>>>>>>> 419006f6c79281cb42d49b75390edb0743f5090d
      ]
     },
     "metadata": {},
     "output_type": "display_data"
    },
    {
     "name": "stdout",
     "output_type": "stream",
     "text": [
      "label tensor(7)\n",
<<<<<<< HEAD
      "Iteration: 400\n",
      "Discriminator Cost tensor(0.1330)\n",
      "Generator Cost tensor(0.1341)\n"
=======
      "Iteration: 14000 Epoch  29\n",
      "Discriminator Cost tensor(0.2394, grad_fn=<ThAddBackward>)\n",
      "Generator Cost tensor(0.0990, grad_fn=<MeanBackward1>)\n"
>>>>>>> 419006f6c79281cb42d49b75390edb0743f5090d
     ]
    },
    {
     "data": {
<<<<<<< HEAD
      "image/png": "iVBORw0KGgoAAAANSUhEUgAAAP8AAAD8CAYAAAC4nHJkAAAABHNCSVQICAgIfAhkiAAAAAlwSFlz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\nRK5CYII=\n",
      "text/plain": [
       "<matplotlib.figure.Figure at 0x11b134128>"
=======
      "image/png": "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\n",
      "text/plain": [
       "<Figure size 432x288 with 1 Axes>"
>>>>>>> 419006f6c79281cb42d49b75390edb0743f5090d
      ]
     },
     "metadata": {},
     "output_type": "display_data"
    },
    {
<<<<<<< HEAD
     "ename": "KeyboardInterrupt",
     "evalue": "",
     "output_type": "error",
     "traceback": [
      "\u001b[0;31m---------------------------------------------------------------------------\u001b[0m",
      "\u001b[0;31mKeyboardInterrupt\u001b[0m                         Traceback (most recent call last)",
      "\u001b[0;32m<ipython-input-17-3d1de7f7426e>\u001b[0m in \u001b[0;36m<module>\u001b[0;34m()\u001b[0m\n\u001b[0;32m----> 1\u001b[0;31m \u001b[0mtrain_gan\u001b[0m\u001b[0;34m(\u001b[0m\u001b[0mgenerator\u001b[0m\u001b[0;34m,\u001b[0m \u001b[0mdiscriminator\u001b[0m\u001b[0;34m,\u001b[0m \u001b[0mimage_loader\u001b[0m\u001b[0;34m,\u001b[0m \u001b[0;36m10\u001b[0m\u001b[0;34m,\u001b[0m \u001b[0mnum_train_batches\u001b[0m\u001b[0;34m=\u001b[0m\u001b[0mnum_train_batches\u001b[0m\u001b[0;34m)\u001b[0m\u001b[0;34m\u001b[0m\u001b[0m\n\u001b[0m",
      "\u001b[0;32m<ipython-input-15-40836b261c1f>\u001b[0m in \u001b[0;36mtrain_gan\u001b[0;34m(generator, discriminator, image_loader, epochs, num_train_batches)\u001b[0m\n\u001b[1;32m     18\u001b[0m             \u001b[0mg_cost\u001b[0m \u001b[0;34m=\u001b[0m \u001b[0mgenerator_loss\u001b[0m\u001b[0;34m(\u001b[0m\u001b[0mscores_fake\u001b[0m\u001b[0;34m)\u001b[0m\u001b[0;34m\u001b[0m\u001b[0m\n\u001b[1;32m     19\u001b[0m             \u001b[0mg_cost\u001b[0m\u001b[0;34m.\u001b[0m\u001b[0mbackward\u001b[0m\u001b[0;34m(\u001b[0m\u001b[0mretain_graph\u001b[0m\u001b[0;34m=\u001b[0m\u001b[0;32mTrue\u001b[0m\u001b[0;34m)\u001b[0m\u001b[0;34m\u001b[0m\u001b[0m\n\u001b[0;32m---> 20\u001b[0;31m             \u001b[0mgenerator_optimizer\u001b[0m\u001b[0;34m.\u001b[0m\u001b[0mstep\u001b[0m\u001b[0;34m(\u001b[0m\u001b[0;34m)\u001b[0m\u001b[0;34m\u001b[0m\u001b[0m\n\u001b[0m\u001b[1;32m     21\u001b[0m \u001b[0;34m\u001b[0m\u001b[0m\n\u001b[1;32m     22\u001b[0m             \u001b[0mscores_real\u001b[0m \u001b[0;34m=\u001b[0m \u001b[0mdiscriminator\u001b[0m\u001b[0;34m(\u001b[0m\u001b[0mexamples\u001b[0m\u001b[0;34m,\u001b[0m \u001b[0mlabels\u001b[0m\u001b[0;34m)\u001b[0m\u001b[0;34m\u001b[0m\u001b[0m\n",
      "\u001b[0;32m~/anaconda3/lib/python3.6/site-packages/torch/optim/adam.py\u001b[0m in \u001b[0;36mstep\u001b[0;34m(self, closure)\u001b[0m\n\u001b[1;32m    100\u001b[0m                     \u001b[0mdenom\u001b[0m \u001b[0;34m=\u001b[0m \u001b[0mexp_avg_sq\u001b[0m\u001b[0;34m.\u001b[0m\u001b[0msqrt\u001b[0m\u001b[0;34m(\u001b[0m\u001b[0;34m)\u001b[0m\u001b[0;34m.\u001b[0m\u001b[0madd_\u001b[0m\u001b[0;34m(\u001b[0m\u001b[0mgroup\u001b[0m\u001b[0;34m[\u001b[0m\u001b[0;34m'eps'\u001b[0m\u001b[0;34m]\u001b[0m\u001b[0;34m)\u001b[0m\u001b[0;34m\u001b[0m\u001b[0m\n\u001b[1;32m    101\u001b[0m \u001b[0;34m\u001b[0m\u001b[0m\n\u001b[0;32m--> 102\u001b[0;31m                 \u001b[0mbias_correction1\u001b[0m \u001b[0;34m=\u001b[0m \u001b[0;36m1\u001b[0m \u001b[0;34m-\u001b[0m \u001b[0mbeta1\u001b[0m \u001b[0;34m**\u001b[0m \u001b[0mstate\u001b[0m\u001b[0;34m[\u001b[0m\u001b[0;34m'step'\u001b[0m\u001b[0;34m]\u001b[0m\u001b[0;34m\u001b[0m\u001b[0m\n\u001b[0m\u001b[1;32m    103\u001b[0m                 \u001b[0mbias_correction2\u001b[0m \u001b[0;34m=\u001b[0m \u001b[0;36m1\u001b[0m \u001b[0;34m-\u001b[0m \u001b[0mbeta2\u001b[0m \u001b[0;34m**\u001b[0m \u001b[0mstate\u001b[0m\u001b[0;34m[\u001b[0m\u001b[0;34m'step'\u001b[0m\u001b[0;34m]\u001b[0m\u001b[0;34m\u001b[0m\u001b[0m\n\u001b[1;32m    104\u001b[0m                 \u001b[0mstep_size\u001b[0m \u001b[0;34m=\u001b[0m \u001b[0mgroup\u001b[0m\u001b[0;34m[\u001b[0m\u001b[0;34m'lr'\u001b[0m\u001b[0;34m]\u001b[0m \u001b[0;34m*\u001b[0m \u001b[0mmath\u001b[0m\u001b[0;34m.\u001b[0m\u001b[0msqrt\u001b[0m\u001b[0;34m(\u001b[0m\u001b[0mbias_correction2\u001b[0m\u001b[0;34m)\u001b[0m \u001b[0;34m/\u001b[0m \u001b[0mbias_correction1\u001b[0m\u001b[0;34m\u001b[0m\u001b[0m\n",
      "\u001b[0;31mKeyboardInterrupt\u001b[0m: "
     ]
=======
     "name": "stdout",
     "output_type": "stream",
     "text": [
      "label tensor(1)\n",
      "Iteration: 15000 Epoch  32\n",
      "Discriminator Cost tensor(0.2390, grad_fn=<ThAddBackward>)\n",
      "Generator Cost tensor(0.0978, grad_fn=<MeanBackward1>)\n"
     ]
    },
    {
     "data": {
      "image/png": "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\n",
      "text/plain": [
       "<Figure size 432x288 with 1 Axes>"
      ]
     },
     "metadata": {},
     "output_type": "display_data"
>>>>>>> 419006f6c79281cb42d49b75390edb0743f5090d
    }
   ],
   "source": [
    "train_gan(generator, discriminator, image_loader, 10, num_train_batches=num_train_batches)"
   ]
  },
  {
   "cell_type": "code",
   "execution_count": null,
   "metadata": {},
   "outputs": [],
   "source": []
  }
 ],
 "metadata": {
  "kernelspec": {
   "display_name": "Python 3",
   "language": "python",
   "name": "python3"
  },
  "language_info": {
   "codemirror_mode": {
    "name": "ipython",
    "version": 3
   },
   "file_extension": ".py",
   "mimetype": "text/x-python",
   "name": "python",
   "nbconvert_exporter": "python",
   "pygments_lexer": "ipython3",
   "version": "3.6.5"
  }
 },
 "nbformat": 4,
 "nbformat_minor": 2
}
